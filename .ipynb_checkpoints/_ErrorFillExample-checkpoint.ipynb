{
 "cells": [
  {
   "cell_type": "code",
   "execution_count": 5,
   "metadata": {
    "collapsed": true
   },
   "outputs": [],
   "source": [
    "from __future__ import print_function\n",
    "\n",
    "from typing import List, Tuple, Sequence\n",
    "\n",
    "from collections import namedtuple\n",
    "import random\n",
    "\n",
    "import simpy\n",
    "\n",
    "from serversim import *\n",
    "\n",
    "\n",
    "def simulate_deployment_scenario(num_users, weight1, weight2, server_range1,\n",
    "                                 server_range2):\n",
    "    # type: (int, float, float, Sequence[int], Sequence[int]) -> Result\n",
    "\n",
    "    Result = namedtuple(\"Result\", [\"num_users\", \"weight1\", \"weight2\", \"server_range1\",\n",
    "                         \"server_range2\", \"servers\", \"grp\"])\n",
    "\n",
    "    def cug(mid, delta):\n",
    "        \"\"\"Computation units generator\"\"\"\n",
    "        def f():\n",
    "            return random.uniform(mid - delta, mid + delta)\n",
    "        return f\n",
    "\n",
    "    def ld_bal(svc_name):\n",
    "        \"\"\"Application server load-balancer.\"\"\"\n",
    "        if svc_name == \"svc_1\":\n",
    "            svr = random.choice(servers1)\n",
    "        elif svc_name == \"svc_2\":\n",
    "            svr = random.choice(servers2)\n",
    "        else:\n",
    "            assert False, \"Invalid service type.\"\n",
    "        return svr\n",
    "\n",
    "    simtime = 200\n",
    "    hw_threads = 10\n",
    "    sw_threads = 20\n",
    "    speed = 20\n",
    "    svc_1_comp_units = 2.0\n",
    "    svc_2_comp_units = 1.0\n",
    "    quantiles = (0.5, 0.95, 0.99)\n",
    "\n",
    "    env = simpy.Environment()\n",
    "\n",
    "    n_servers = max(server_range1[-1] + 1, server_range2[-1] + 1)\n",
    "    servers = [Server(env, hw_threads, sw_threads, speed, \"AppServer_%s\" % i)\n",
    "               for i in range(n_servers)]\n",
    "    servers1 = [servers[i] for i in server_range1]\n",
    "    servers2 = [servers[i] for i in server_range2]\n",
    "\n",
    "    svc_1 = CoreSvcRequester(env, \"svc_1\", cug(svc_1_comp_units,\n",
    "                                               svc_1_comp_units*.9), ld_bal)\n",
    "    svc_2 = CoreSvcRequester(env, \"svc_2\", cug(svc_2_comp_units,\n",
    "                                               svc_2_comp_units*.9), ld_bal)\n",
    "\n",
    "    weighted_txns = [(svc_1, weight1),\n",
    "                     (svc_2, weight2)\n",
    "                     ]\n",
    "\n",
    "    min_think_time = 2.0  # .5 # 4\n",
    "    max_think_time = 10.0  # 1.5 # 20\n",
    "    svc_req_log = []  # type: List[Tuple[str, SvcRequest]]\n",
    "\n",
    "    grp = UserGroup(env, num_users, \"UserTypeX\", weighted_txns, min_think_time,\n",
    "                    max_think_time, quantiles, svc_req_log)\n",
    "    grp.activate_users()\n",
    "\n",
    "    env.run(until=simtime)\n",
    "\n",
    "    return Result(num_users=num_users, weight1=weight1, weight2=weight2,\n",
    "            server_range1=server_range1, server_range2=server_range2,\n",
    "            servers=servers, grp=grp)\n"
   ]
  },
  {
   "cell_type": "code",
   "execution_count": 6,
   "metadata": {
    "collapsed": true
   },
   "outputs": [],
   "source": [
    "random.seed(123456)"
   ]
  },
  {
   "cell_type": "code",
   "execution_count": 7,
   "metadata": {
    "collapsed": true
   },
   "outputs": [],
   "source": [
    "sc1 = simulate_deployment_scenario(num_users=720, weight1=2, weight2=1, \n",
    "                                   server_range1=range(0, 10), server_range2=range(0, 10))"
   ]
  },
  {
   "cell_type": "code",
   "execution_count": 8,
   "metadata": {},
   "outputs": [
    {
     "data": {
      "image/png": "[encoded data removed]",
      "text/plain": [
       "<matplotlib.figure.Figure at 0x7fafd0a48790>"
      ]
     },
     "metadata": {},
     "output_type": "display_data"
    }
   ],
   "source": [
    "import seaborn as sns\n",
    "\n",
    "from typing import TYPE_CHECKING, Sequence, Tuple\n",
    "from collections import OrderedDict\n",
    "\n",
    "import matplotlib.pyplot as plt\n",
    "import pandas as pd\n",
    "\n",
    "if TYPE_CHECKING:\n",
    "    from serversim import UserGroup\n",
    "\n",
    "\n",
    "def bands(time_resolution, grp):\n",
    "    # type: (float, UserGroup) -> Tuple[Sequence[float], Sequence[float], Sequence[float], Sequence[float], Sequence[float], Sequence[float]]\n",
    "\n",
    "    times = ((svc_req.time_dict[\"submitted\"] // time_resolution) *\n",
    "             time_resolution\n",
    "             for (_, svc_req) in grp.svc_req_log\n",
    "             if svc_req.is_completed)\n",
    "\n",
    "    vals = (svc_req.time_dict[\"completed\"] - svc_req.time_dict[\"submitted\"]\n",
    "            for (_, svc_req) in grp.svc_req_log\n",
    "            if svc_req.is_completed)\n",
    "\n",
    "    series = pd.Series(vals, index=times)\n",
    "    grouped = series.groupby(level=0)\n",
    "\n",
    "    counts_ser = grouped.count()\n",
    "    ts = counts_ser.index.values\n",
    "    counts = counts_ser.values\n",
    "    means = grouped.mean().values\n",
    "    q_50 = grouped.quantile(.50).values\n",
    "    q_95 = grouped.quantile(.95).values\n",
    "    q_05 = grouped.quantile(.05).values\n",
    "\n",
    "    return ts, counts, means, q_50, q_95, q_05\n",
    "\n",
    "def errorfill(x, y, ylow, yhigh, color='blue', alpha_fill=0.3, ax=None):\n",
    "    ax = ax if ax is not None else plt.gca()\n",
    "    if color is None:\n",
    "        color = ax._get_lines.color_cycle.next()\n",
    "    ax.plot(x, y, color=color)\n",
    "    ax.fill_between(x, ylow, yhigh, color=color, alpha=alpha_fill)\n",
    "    plt.show()\n",
    "\n",
    "ts, _, means, _, q_95, q_05 = bands(5, sc1.grp)\n",
    "\n",
    "errorfill(ts, means, q_05, q_95)"
   ]
  }
 ],
 "metadata": {
  "kernelspec": {
   "display_name": "Python 2",
   "language": "python",
   "name": "python2"
  },
  "language_info": {
   "codemirror_mode": {
    "name": "ipython",
    "version": 2
   },
   "file_extension": ".py",
   "mimetype": "text/x-python",
   "name": "python",
   "nbconvert_exporter": "python",
   "pygments_lexer": "ipython2",
   "version": "2.7.12"
  }
 },
 "nbformat": 4,
 "nbformat_minor": 2
}
